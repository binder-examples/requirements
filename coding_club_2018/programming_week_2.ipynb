{
 "cells": [
  {
   "cell_type": "markdown",
   "metadata": {},
   "source": [
    "## Programming Club Week 2\n",
    "#### Introduction to Python"
   ]
  },
  {
   "cell_type": "code",
   "execution_count": null,
   "metadata": {},
   "outputs": [],
   "source": [
    "# first, some basic stuff\n",
    "# addition, subtraction, comments, variables"
   ]
  },
  {
   "cell_type": "code",
   "execution_count": null,
   "metadata": {},
   "outputs": [],
   "source": [
    "# do some set up stuff\n",
    "from mobilechelonian import Turtle\n",
    "# this creates a turtle! His name is \"turt\".\n",
    "turt = Turtle()\n",
    "# try changing the Grid On/Off\n",
    "### LET'S PUT OUR MAIN CODE HERE ###"
   ]
  },
  {
   "cell_type": "code",
   "execution_count": null,
   "metadata": {},
   "outputs": [],
   "source": [
    "turt.forward(100)\n",
    "turt.right(90)\n",
    "turt.forward(100)\n",
    "turt.right(90)\n",
    "turt.forward(100)\n",
    "turt.right(90)\n",
    "turt.forward(100)\n",
    "turt.right(90)"
   ]
  },
  {
   "cell_type": "code",
   "execution_count": null,
   "metadata": {},
   "outputs": [],
   "source": [
    "def square_one(turt):\n",
    "    turt.forward(100)\n",
    "    turt.right(90)\n",
    "    turt.forward(100)\n",
    "    turt.right(90)\n",
    "    turt.forward(100)\n",
    "    turt.right(90)\n",
    "    turt.forward(100)\n",
    "    turt.right(90)"
   ]
  },
  {
   "cell_type": "code",
   "execution_count": null,
   "metadata": {},
   "outputs": [],
   "source": [
    "def square_two(turt):\n",
    "    for i in range(4):\n",
    "        turt.forward(100)\n",
    "        turt.right(90)"
   ]
  },
  {
   "cell_type": "code",
   "execution_count": null,
   "metadata": {},
   "outputs": [],
   "source": [
    "# Some other stuff to play with:\n",
    "turt = Turtle()\n",
    "turt.speed(5)\n",
    "turt.penup()\n",
    "turt.pendown()\n",
    "turt.circle(100)\n",
    "turt.pencolor('red')\n",
    "turt.home()\n",
    "turt.circle(50)"
   ]
  },
  {
   "cell_type": "code",
   "execution_count": null,
   "metadata": {},
   "outputs": [],
   "source": []
  }
 ],
 "metadata": {
  "kernelspec": {
   "display_name": "Python 3",
   "language": "python",
   "name": "python3"
  },
  "language_info": {
   "codemirror_mode": {
    "name": "ipython",
    "version": 3
   },
   "file_extension": ".py",
   "mimetype": "text/x-python",
   "name": "python",
   "nbconvert_exporter": "python",
   "pygments_lexer": "ipython3",
   "version": "3.6.1"
  }
 },
 "nbformat": 4,
 "nbformat_minor": 2
}
