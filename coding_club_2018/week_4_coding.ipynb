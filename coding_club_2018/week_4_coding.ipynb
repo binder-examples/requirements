{
 "cells": [
  {
   "cell_type": "markdown",
   "metadata": {},
   "source": [
    "# Week 4 - Group coding"
   ]
  },
  {
   "cell_type": "markdown",
   "metadata": {},
   "source": [
    "### 1. Getting used to turt\n",
    "### Goal: make a triangle, a circle, and a square that are not touching"
   ]
  },
  {
   "cell_type": "code",
   "execution_count": 3,
   "metadata": {},
   "outputs": [],
   "source": [
    "# run this first to import turtle\n",
    "from mobilechelonian import Turtle\n",
    "# here are the commands you can use \n",
    "# turt = Turtle()       -- starts a new window\n",
    "# turt.forward(x)       -- moves turt foward x pixels\n",
    "# turt.left(x)          -- moves turt left x degrees\n",
    "# turt.right(x)         -- moves turt right x degrees\n",
    "# turt.speed(x)         -- set speed of turt to x (maximum 10)\n",
    "# turt.home()           -- move turt to the center\n",
    "# turt.circle(x)        -- draw a circle with radius x\n",
    "# turt.penup()          -- tell turt to stop drawing\n",
    "# turt.pendown()        -- tell turt to start drawing\n",
    "# turt.pencolor(c)      -- make turt draw with color c. Some examples: c = 'red' or 'blue' or 'green' or 'black'\n",
    "# turt.setposition(x,y) -- move turtle to location x, y on window"
   ]
  },
  {
   "cell_type": "code",
   "execution_count": 45,
   "metadata": {},
   "outputs": [],
   "source": [
    "# here are some functions for you to use!\n",
    "\n",
    "def centerTurt(turt):\n",
    "    turt.penup()\n",
    "    turt.home()\n",
    "    turt.pendown()\n",
    "\n",
    "def moveTurt(turt, distance, rAngle):\n",
    "    turt.penup()\n",
    "    turt.right(rAngle)\n",
    "    turt.forward(distance)\n",
    "    turt.left(rAngle)\n",
    "    turt.pendown()\n",
    "\n",
    "# this shows what it does...\n",
    "turt = Turtle()\n",
    "turt.speed(10)\n",
    "moveTurt(turt, 40, 90)\n",
    "turt.circle(40)\n",
    "centerTurt(turt)\n",
    "moveTurt(turt, 150, 90)\n",
    "turt.circle(150)\n",
    "centerTurt(turt)"
   ]
  },
  {
   "cell_type": "code",
   "execution_count": 47,
   "metadata": {},
   "outputs": [
    {
     "data": {
      "application/vnd.jupyter.widget-view+json": {
       "model_id": "9f52069cec934d8484282bac36452e97"
      }
     },
     "metadata": {},
     "output_type": "display_data"
    }
   ],
   "source": [
    "# below here: make a square, a triangle, and a circle\n",
    "# hint: to make a triangle, use angles of 120... turt.right(120)\n",
    "\n",
    "# I made a square for you to get started\n",
    "turt = Turtle()\n",
    "turt.speed(10)\n",
    "turt.forward(50)\n",
    "turt.right(90)\n",
    "turt.forward(50)\n",
    "turt.right(90)\n",
    "turt.forward(50)\n",
    "turt.right(90)\n",
    "turt.forward(50)\n",
    "turt.right(90)"
   ]
  },
  {
   "cell_type": "code",
   "execution_count": 21,
   "metadata": {},
   "outputs": [
    {
     "data": {
      "application/vnd.jupyter.widget-view+json": {
       "model_id": "4c46024719b84d3d97027077037faaf6"
      }
     },
     "metadata": {},
     "output_type": "display_data"
    }
   ],
   "source": []
  },
  {
   "cell_type": "markdown",
   "metadata": {},
   "source": [
    "### 2. Make functions from the code in part 1\n",
    "### BONUS POINTS if you add parameters to make different sized shapes"
   ]
  },
  {
   "cell_type": "code",
   "execution_count": 51,
   "metadata": {},
   "outputs": [],
   "source": [
    "# here's the first one...\n",
    "def drawSquare(turt):\n",
    "    turt.speed(10)\n",
    "    turt.forward(50)\n",
    "    turt.right(90)\n",
    "    turt.forward(50)\n",
    "    turt.right(90)\n",
    "    turt.forward(50)\n",
    "    turt.right(90)\n",
    "    turt.forward(50)\n",
    "    turt.right(90)\n",
    "    \n",
    "# now write functions to make a triangle and circle"
   ]
  },
  {
   "cell_type": "code",
   "execution_count": null,
   "metadata": {},
   "outputs": [],
   "source": [
    "# run it here\n",
    "turt = Turtle()\n",
    "turt.speed(10)\n",
    "drawSquare(turt)\n",
    "# now use your functions to draw the other shapes!"
   ]
  },
  {
   "cell_type": "code",
   "execution_count": null,
   "metadata": {},
   "outputs": [],
   "source": []
  },
  {
   "cell_type": "markdown",
   "metadata": {},
   "source": [
    "### 3. Challenge (we may not get to this)\n",
    "### Loops"
   ]
  },
  {
   "cell_type": "code",
   "execution_count": null,
   "metadata": {},
   "outputs": [],
   "source": [
    "# see below for examples of loops\n",
    "# this code will do the same as in the code in the next cell\n",
    "turt = Turtle()\n",
    "turt.speed(10)\n",
    "turt.forward(50)\n",
    "turt.right(90)\n",
    "turt.forward(50)\n",
    "turt.right(90)\n",
    "turt.forward(50)\n",
    "turt.right(90)\n",
    "turt.forward(50)\n",
    "turt.right(90)"
   ]
  },
  {
   "cell_type": "code",
   "execution_count": 49,
   "metadata": {},
   "outputs": [
    {
     "data": {
      "application/vnd.jupyter.widget-view+json": {
       "model_id": "b0a1736cb9184853b853134de607c981"
      }
     },
     "metadata": {},
     "output_type": "display_data"
    },
    {
     "name": "stdout",
     "output_type": "stream",
     "text": [
      "0\n",
      "1\n",
      "2\n",
      "3\n"
     ]
    }
   ],
   "source": [
    "turt = Turtle()\n",
    "turt.speed(10)\n",
    "for i in range(4):\n",
    "    print(i) # i show what loop number you are on\n",
    "    turt.forward(50)\n",
    "    turt.right(90)"
   ]
  },
  {
   "cell_type": "code",
   "execution_count": 52,
   "metadata": {},
   "outputs": [
    {
     "data": {
      "application/vnd.jupyter.widget-view+json": {
       "model_id": "9d4a0611608e40708bc5626d9a733a8a"
      }
     },
     "metadata": {},
     "output_type": "display_data"
    }
   ],
   "source": [
    "# can use loops to do fancy stuff...\n",
    "# this will make a flower!\n",
    "turt = Turtle()\n",
    "turt.speed(10)\n",
    "for i in range(18):\n",
    "    centerTurt(turt)\n",
    "    turt.right(20*i)\n",
    "    drawSquare(turt)"
   ]
  },
  {
   "cell_type": "code",
   "execution_count": null,
   "metadata": {},
   "outputs": [],
   "source": [
    "# now, use loops and functions (and maybe colors) to make a cool shape"
   ]
  },
  {
   "cell_type": "code",
   "execution_count": null,
   "metadata": {},
   "outputs": [],
   "source": []
  }
 ],
 "metadata": {
  "kernelspec": {
   "display_name": "Python 3",
   "language": "python",
   "name": "python3"
  },
  "language_info": {
   "codemirror_mode": {
    "name": "ipython",
    "version": 3
   },
   "file_extension": ".py",
   "mimetype": "text/x-python",
   "name": "python",
   "nbconvert_exporter": "python",
   "pygments_lexer": "ipython3",
   "version": "3.6.3"
  }
 },
 "nbformat": 4,
 "nbformat_minor": 2
}
