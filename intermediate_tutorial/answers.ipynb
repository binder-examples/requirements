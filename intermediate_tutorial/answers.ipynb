{
 "cells": [
  {
   "cell_type": "raw",
   "id": "ba83657b-2a5b-4036-85cf-39335e71bae5",
   "metadata": {},
   "source": [
    "Feedback for data_science.analyze_customer_data\n",
    "\n",
    "Style\n",
    "- inaccurate function name\n",
    "- poor documentation\n",
    "- hardcoded file path\n",
    "- poor variable name `abc`\n",
    "\n",
    "Code quality\n",
    "- break up functions\n",
    "    - reading data\n",
    "    - cleaning data\n",
    "    - perform analysis\n",
    "- Get path dynamically, e.g. `os.path.dirname(os.path.abspath(__file__))`\n",
    "- contextmanager for input file\n",
    "- logging on \"cleaned\" lines\n",
    "\n",
    "Bugs\n",
    "- `line_dict` is overwritten on each loop\n",
    "- x/y double loop is overwriting the dict with the wrong variable\n",
    "- country count is being decremented by 1\n",
    "\n",
    "Performance\n",
    "- nested for loops within the loop replaced by comprehension\n",
    "- remaking `all_customers` due to `+=` operator\n",
    "- memory consideration for input file\n",
    "- repeated import"
   ]
  },
  {
   "cell_type": "markdown",
   "id": "043b93cc-9ca3-4f92-9257-7e12417703b3",
   "metadata": {},
   "source": [
    "## Fixed Function"
   ]
  },
  {
   "cell_type": "code",
   "execution_count": null,
   "id": "82db37cc-c87e-443d-9857-4947d1b8ca50",
   "metadata": {},
   "outputs": [],
   "source": [
    "# Insert code here"
   ]
  }
 ],
 "metadata": {
  "kernelspec": {
   "display_name": "Python 3 (ipykernel)",
   "language": "python",
   "name": "python3"
  },
  "language_info": {
   "codemirror_mode": {
    "name": "ipython",
    "version": 3
   },
   "file_extension": ".py",
   "mimetype": "text/x-python",
   "name": "python",
   "nbconvert_exporter": "python",
   "pygments_lexer": "ipython3",
   "version": "3.9.6"
  }
 },
 "nbformat": 4,
 "nbformat_minor": 5
}
