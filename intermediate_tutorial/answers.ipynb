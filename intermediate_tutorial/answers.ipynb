{
 "cells": [
  {
   "cell_type": "markdown",
   "id": "a095aaaa-c878-4b9e-aeea-2ad03a769565",
   "metadata": {},
   "source": [
    "## Feedback for data_science.analyze_customer_data\n",
    "\n",
    "Style\n",
    "- inaccurate function name\n",
    "- poor documentation\n",
    "- hardcoded file path\n",
    "- poor variable name `abc`\n",
    "\n",
    "Code quality\n",
    "- break up functions\n",
    "    - reading data\n",
    "    - cleaning data\n",
    "    - perform analysis\n",
    "- contextmanager for input file\n",
    "- logging on \"cleaned\" lines\n",
    "\n",
    "Bugs\n",
    "- Path only works on Carl's machine\n",
    "    - Get path dynamically, e.g. `os.path.dirname(os.path.abspath(__file__))`\n",
    "- `line_dict` is overwritten on each loop\n",
    "- x/y double loop is overwriting the dict with the wrong variable\n",
    "- country count is being decremented by 1\n",
    "\n",
    "Performance\n",
    "- nested for loops within the loop replaced by comprehension\n",
    "- remaking `all_customers` due to `+=` operator\n",
    "- memory consideration for input file\n",
    "- repeated import"
   ]
  },
  {
   "cell_type": "markdown",
   "id": "1d554a09-5a3f-4a95-bdb3-f15a66a5983f",
   "metadata": {},
   "source": [
    "## Function After Feedback"
   ]
  },
  {
   "cell_type": "code",
   "execution_count": null,
   "id": "82db37cc-c87e-443d-9857-4947d1b8ca50",
   "metadata": {},
   "outputs": [],
   "source": [
    "from time import sleep as time_sleep\n",
    "\n",
    "# TODO: Write function to parse and validate headers\n",
    "\n",
    "# TODO: Write function for data cleaning\n",
    "\n",
    "def read_customer_csv(data_path):\n",
    "    \"\"\"Docstring\"\"\"\n",
    "    all_customers = []\n",
    "    # read header\n",
    "    with open(data_path, 'r') as input_file:\n",
    "        headers = input_file.readline().strip().split(',')\n",
    "        # Comment what this loop is doing\n",
    "        for line in input_file.readlines(size=1000):\n",
    "            # read the data\n",
    "            parsed_line = line.strip().split(',')\n",
    "            line_dict = {x: y for x in headers for y in parsed_line}\n",
    "            # clean the data... some first names and last are missing\n",
    "            if not line_dict['First Name'] or not line_dict['Last Name']:\n",
    "                # Introduce logging\n",
    "                continue\n",
    "            all_customers.append(line_dict)\n",
    "    return all_customers\n",
    "\n",
    "\n",
    "def count_countries_from_customers(data_path: str):\n",
    "    \"\"\"\n",
    "    Get count of countries given customer data.\n",
    "\n",
    "    Args:\n",
    "        data_path: string path to the CSV data file\n",
    "\n",
    "    Returns:\n",
    "        Dict: number of each country represented in the data\n",
    "    \"\"\"\n",
    "    all_customers = read_customer_csv(data_path)\n",
    "    countries = {}\n",
    "    for customer in all_customers:\n",
    "        country = customer['Country']\n",
    "\n",
    "        # imitate some complex processing...\n",
    "        time_sleep(0.0001)\n",
    "\n",
    "        if country not in countries:\n",
    "            countries[country] = 0\n",
    "        countries[country] = countries[country] + 1\n",
    "\n",
    "    return countries"
   ]
  },
  {
   "cell_type": "code",
   "execution_count": null,
   "id": "be891fc0-446a-4b31-a185-eda7d55b2f2b",
   "metadata": {},
   "outputs": [],
   "source": []
  }
 ],
 "metadata": {
  "kernelspec": {
   "display_name": "Python 3 (ipykernel)",
   "language": "python",
   "name": "python3"
  },
  "language_info": {
   "codemirror_mode": {
    "name": "ipython",
    "version": 3
   },
   "file_extension": ".py",
   "mimetype": "text/x-python",
   "name": "python",
   "nbconvert_exporter": "python",
   "pygments_lexer": "ipython3",
   "version": "3.9.6"
  }
 },
 "nbformat": 4,
 "nbformat_minor": 5
}
