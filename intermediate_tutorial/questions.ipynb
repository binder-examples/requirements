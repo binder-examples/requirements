{
 "cells": [
  {
   "cell_type": "markdown",
   "id": "8e505684-10ad-4fdb-999d-15ea9a65f489",
   "metadata": {},
   "source": [
    "# Questions for Intermediate Python & Coding Interview"
   ]
  },
  {
   "cell_type": "code",
   "execution_count": null,
   "id": "d0cc665a-9946-427d-84dd-b092ac3ee446",
   "metadata": {},
   "outputs": [],
   "source": [
    "### Topics Covered\n",
    "- Python packaging (setuptools and poetry)\n",
    "- Testing Python code\n",
    "- Performance analysis of Python code\n",
    "- Applied interview question (code review)"
   ]
  },
  {
   "cell_type": "markdown",
   "id": "bed404a6-a060-4dab-bb5e-ec5ede231dcf",
   "metadata": {},
   "source": [
    "## Packaging with setuptools"
   ]
  },
  {
   "cell_type": "markdown",
   "id": "1ffb3dc9-aba9-4d2e-b43e-ccca1dfed280",
   "metadata": {},
   "source": [
    "Perform the following steps from the `simple_package` directory:\n",
    "- Install project with setuptools `python setup.py install`\n",
    "- Alternately, install with pip using `pip install -e <path to project>`\n",
    "    - Can use editable install with `-e` for code updates\n",
    "- Install requirements with `pip install -r requirements.txt`"
   ]
  },
  {
   "cell_type": "code",
   "execution_count": 3,
   "id": "10f1ca69-604f-41e8-9de4-9ead70b296f8",
   "metadata": {},
   "outputs": [
    {
     "data": {
      "text/plain": [
       "4"
      ]
     },
     "execution_count": 3,
     "metadata": {},
     "output_type": "execute_result"
    }
   ],
   "source": [
    "from simplepackage import simple_math\n",
    "simple_math.add_two_numbers(1,2)\n",
    "simple_math.subtract_two_numbers(5,1)"
   ]
  },
  {
   "cell_type": "markdown",
   "id": "8697c8b7-8850-4d15-88e4-14e14dad74b7",
   "metadata": {},
   "source": [
    "## Packaging with Poetry"
   ]
  },
  {
   "cell_type": "markdown",
   "id": "fab71ecd-540b-4439-830e-c25b9b1bf692",
   "metadata": {},
   "source": [
    "Find the Poetry documentation here: https://python-poetry.org/docs/basic-usage/\n",
    "\n",
    "Perform the following steps from the `poetry_package` directory:\n",
    "- Create poetry project with `poetry init`\n",
    "    - This step was already performed to initialize the project\n",
    "- Install poetry project with `poetry install`\n",
    "- Add dependencies with `poetry add <package>`"
   ]
  },
  {
   "cell_type": "code",
   "execution_count": 5,
   "id": "36ad9b50-8dc1-4f43-bef7-42eba07a66d3",
   "metadata": {},
   "outputs": [
    {
     "data": {
      "text/plain": [
       "4"
      ]
     },
     "execution_count": 5,
     "metadata": {},
     "output_type": "execute_result"
    }
   ],
   "source": [
    "from poetrypackage import simple_math\n",
    "simple_math.add_two_numbers(1,2)\n",
    "simple_math.subtract_two_numbers(5,1)"
   ]
  },
  {
   "cell_type": "markdown",
   "id": "15154bd2-5a8b-4272-a4fa-b2c920a67a20",
   "metadata": {},
   "source": [
    "## Testing with Pytest\n",
    "\n",
    "Here we use `pytest` to run tests for our Python package.\n",
    "Tests are located here: ``intermediate_tutorial/poetry_package/poetrypackage/tests`\n",
    "\n",
    "Run the tests with:\n",
    "`pytest`\n",
    "\n",
    "Run a specific test with:\n",
    "`pytest -k analyze_customer_data`\n",
    "\n",
    "Check out tests and focus on the following:\n",
    "- How does a test relate to a function?\n",
    "- What sort of stuff should we test for?\n",
    "- When should tests be written?"
   ]
  },
  {
   "cell_type": "markdown",
   "id": "b5067d53-d02d-4422-a645-531fadff97a2",
   "metadata": {},
   "source": [
    "## Code Quality and Performance\n",
    "\n",
    "See the example module: `intermediate_tutorial/poetry_package/poetrypackage/data_science.py`\n",
    "\n",
    "It uses this input CSV: `intermediate_tutorial/poetry_package/poetrypackage/data/customers.csv`\n",
    "\n",
    "Review the `analyze_customers` function and focus on the following:\n",
    "- Code style\n",
    "- Code performance\n",
    "- Testability\n",
    "\n",
    "Use debugging as a way to figure out what the code is doing.\n",
    "Use profiling (below) to analyze code performance."
   ]
  },
  {
   "cell_type": "code",
   "execution_count": 2,
   "id": "921da2ec-1002-4558-bc41-6efcee710254",
   "metadata": {},
   "outputs": [
    {
     "name": "stdout",
     "output_type": "stream",
     "text": [
      "         160442 function calls in 1.536 seconds\n",
      "\n",
      "   Ordered by: standard name\n",
      "\n",
      "   ncalls  tottime  percall  cumtime  percall filename:lineno(function)\n",
      "        1    0.000    0.000    0.000    0.000 _bootlocale.py:33(getpreferredencoding)\n",
      "        1    0.000    0.000    0.000    0.000 cProfile.py:40(print_stats)\n",
      "        1    0.000    0.000    0.000    0.000 cProfile.py:50(create_stats)\n",
      "        1    0.000    0.000    0.000    0.000 codecs.py:260(__init__)\n",
      "        1    0.000    0.000    0.000    0.000 codecs.py:309(__init__)\n",
      "      211    0.000    0.000    0.000    0.000 codecs.py:319(decode)\n",
      "        1    0.000    0.000    0.000    0.000 codecs.py:331(getstate)\n",
      "        1    0.201    0.201    1.536    1.536 data_science.py:4(analyze_customer_data)\n",
      "        1    0.000    0.000    0.000    0.000 pstats.py:107(__init__)\n",
      "        1    0.000    0.000    0.000    0.000 pstats.py:117(init)\n",
      "        1    0.000    0.000    0.000    0.000 pstats.py:136(load_stats)\n",
      "      211    0.000    0.000    0.000    0.000 {built-in method _codecs.utf_8_decode}\n",
      "        1    0.000    0.000    0.000    0.000 {built-in method _locale.nl_langinfo}\n",
      "        1    0.000    0.000    0.000    0.000 {built-in method builtins.hasattr}\n",
      "        1    0.000    0.000    0.000    0.000 {built-in method builtins.isinstance}\n",
      "   130001    0.010    0.000    0.010    0.000 {built-in method builtins.len}\n",
      "        1    0.000    0.000    0.000    0.000 {built-in method io.open}\n",
      "    10000    1.308    0.000    1.308    0.000 {built-in method time.sleep}\n",
      "        1    0.000    0.000    0.000    0.000 {method 'disable' of '_lsprof.Profiler' objects}\n",
      "        1    0.000    0.000    0.000    0.000 {method 'readline' of '_io.TextIOWrapper' objects}\n",
      "        1    0.004    0.004    0.005    0.005 {method 'readlines' of '_io._IOBase' objects}\n",
      "    10001    0.009    0.000    0.009    0.000 {method 'split' of 'str' objects}\n",
      "    10001    0.002    0.000    0.002    0.000 {method 'strip' of 'str' objects}\n",
      "\n",
      "\n"
     ]
    }
   ],
   "source": [
    "import cProfile\n",
    "from poetrypackage import data_science\n",
    "\n",
    "with cProfile.Profile() as pr:\n",
    "    data_science.analyze_customer_data()\n",
    "    pr.print_stats()"
   ]
  },
  {
   "cell_type": "markdown",
   "id": "719ef6f2-012b-42b5-91fc-de0c045ddc5a",
   "metadata": {},
   "source": [
    "## Coding Interview\n",
    "\n",
    "Let's say your colleague has brought you the `analyze_customer_data` function (referenced above) and has asked for a code review.\n",
    "\n",
    "They claim that the point of the function is to find the representation of countries among customers.\n",
    "\n",
    "They also say that they're having trouble writing tests.\n",
    "\n",
    "Do the following:\n",
    "- Suggest improvements from the code (stylistic, functional, performance...)\n",
    "- Identify any bugs in the code\n",
    "- Help write test(s) for your colleague\n",
    "\n",
    "Focus on guiding the interviewer through your thought process."
   ]
  }
 ],
 "metadata": {
  "kernelspec": {
   "display_name": "Python 3 (ipykernel)",
   "language": "python",
   "name": "python3"
  },
  "language_info": {
   "codemirror_mode": {
    "name": "ipython",
    "version": 3
   },
   "file_extension": ".py",
   "mimetype": "text/x-python",
   "name": "python",
   "nbconvert_exporter": "python",
   "pygments_lexer": "ipython3",
   "version": "3.9.6"
  }
 },
 "nbformat": 4,
 "nbformat_minor": 5
}
