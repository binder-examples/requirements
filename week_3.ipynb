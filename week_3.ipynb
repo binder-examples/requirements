{
 "cells": [
  {
   "cell_type": "markdown",
   "metadata": {},
   "source": [
    "# Programming club week 3\n",
    "### Intro to Python, continued"
   ]
  },
  {
   "cell_type": "markdown",
   "metadata": {},
   "source": [
    "### Part 1: The basics"
   ]
  },
  {
   "cell_type": "code",
   "execution_count": null,
   "metadata": {},
   "outputs": [],
   "source": [
    "# <== Anything after this on a line will be ignored\n",
    "# this is a comment\n",
    "\n",
    "# What we did last time.\n",
    "# Basic python types\n",
    "\n",
    "# number\n",
    "5\n",
    "\n",
    "# string\n",
    "'Carl is cool'\n",
    "\n",
    "# float\n",
    "5.5\n",
    "\n",
    "# you can do these\n",
    "5 + 5\n",
    "'Carl ' + 'is cool'\n",
    "5.5 + 5.5"
   ]
  },
  {
   "cell_type": "code",
   "execution_count": 15,
   "metadata": {},
   "outputs": [
    {
     "ename": "TypeError",
     "evalue": "unsupported operand type(s) for +: 'int' and 'str'",
     "output_type": "error",
     "traceback": [
      "\u001b[0;31m---------------------------------------------------------------------------\u001b[0m",
      "\u001b[0;31mTypeError\u001b[0m                                 Traceback (most recent call last)",
      "\u001b[0;32m<ipython-input-15-38bf68f49546>\u001b[0m in \u001b[0;36m<module>\u001b[0;34m()\u001b[0m\n\u001b[1;32m      1\u001b[0m \u001b[0;31m# you CAN'T do this!\u001b[0m\u001b[0;34m\u001b[0m\u001b[0;34m\u001b[0m\u001b[0m\n\u001b[0;32m----> 2\u001b[0;31m \u001b[0;36m5\u001b[0m \u001b[0;34m+\u001b[0m \u001b[0;34m'words'\u001b[0m\u001b[0;34m\u001b[0m\u001b[0m\n\u001b[0m",
      "\u001b[0;31mTypeError\u001b[0m: unsupported operand type(s) for +: 'int' and 'str'"
     ]
    }
   ],
   "source": [
    "# you CAN'T do this!\n",
    "5 + 'words'"
   ]
  },
  {
   "cell_type": "code",
   "execution_count": 16,
   "metadata": {},
   "outputs": [
    {
     "ename": "IndentationError",
     "evalue": "unexpected indent (<ipython-input-16-7c83ddcc0a38>, line 2)",
     "output_type": "error",
     "traceback": [
      "\u001b[0;36m  File \u001b[0;32m\"<ipython-input-16-7c83ddcc0a38>\"\u001b[0;36m, line \u001b[0;32m2\u001b[0m\n\u001b[0;31m    5 + 5\u001b[0m\n\u001b[0m    ^\u001b[0m\n\u001b[0;31mIndentationError\u001b[0m\u001b[0;31m:\u001b[0m unexpected indent\n"
     ]
    }
   ],
   "source": [
    "# you CAN'T do this!\n",
    "    5 + 5"
   ]
  },
  {
   "cell_type": "code",
   "execution_count": 17,
   "metadata": {},
   "outputs": [
    {
     "name": "stdout",
     "output_type": "stream",
     "text": [
      "7\n",
      "10\n",
      "19\n",
      "10\n"
     ]
    }
   ],
   "source": [
    "# Let's do some math\n",
    "def add_numbers(x, y):\n",
    "    print(x + y)\n",
    "    \n",
    "add_numbers(5, 2)\n",
    "\n",
    "# variables. what are we gonna get?\n",
    "my_fun_number = 5\n",
    "my_fun_number = 2\n",
    "my_fun_number = 5 + 2\n",
    "my_fun_number = my_fun_number + 2\n",
    "\n",
    "add_numbers(my_fun_number, 1)\n",
    "add_numbers(my_fun_number, my_fun_number+1)\n",
    "\n",
    "def add_numbers_then_subtract(x, y):\n",
    "    print(my_fun_number + x - y)\n",
    "    \n",
    "add_numbers_then_subtract(2,1)\n"
   ]
  },
  {
   "cell_type": "code",
   "execution_count": 18,
   "metadata": {},
   "outputs": [
    {
     "name": "stdout",
     "output_type": "stream",
     "text": [
      "17\n"
     ]
    }
   ],
   "source": [
    "import random\n",
    "print(random.randint(1,100))"
   ]
  },
  {
   "cell_type": "code",
   "execution_count": 19,
   "metadata": {},
   "outputs": [
    {
     "name": "stdout",
     "output_type": "stream",
     "text": [
      "Rolled 2\n",
      "Rolled 5\n",
      "Rolled 1\n"
     ]
    },
    {
     "data": {
      "text/plain": [
       "1"
      ]
     },
     "execution_count": 19,
     "metadata": {},
     "output_type": "execute_result"
    }
   ],
   "source": [
    "def roll_dice():\n",
    "    roll = random.randint(1,6)\n",
    "    print('Rolled ' + str(roll))\n",
    "    return roll\n",
    "\n",
    "roll_dice()\n",
    "roll_dice()\n",
    "roll_dice()"
   ]
  },
  {
   "cell_type": "code",
   "execution_count": 20,
   "metadata": {},
   "outputs": [
    {
     "name": "stdout",
     "output_type": "stream",
     "text": [
      "__PLAYER ONE__\n",
      "Rolled 5\n",
      "__PLAYER TWO__\n",
      "Rolled 6\n",
      "Player two won!\n"
     ]
    }
   ],
   "source": [
    "print('__PLAYER ONE__')\n",
    "my_roll = roll_dice()\n",
    "print('__PLAYER TWO__')\n",
    "your_roll = roll_dice()\n",
    "\n",
    "if my_roll > your_roll:\n",
    "    print('Player one won!')\n",
    "elif my_roll < your_roll:\n",
    "    print ('Player two won!')\n",
    "else:\n",
    "    print('It was a tie!')"
   ]
  },
  {
   "cell_type": "code",
   "execution_count": 21,
   "metadata": {},
   "outputs": [],
   "source": [
    "def play_a_game():\n",
    "    print('__PLAYER ONE__')\n",
    "    my_roll = roll_dice()\n",
    "    print('__PLAYER TWO__')\n",
    "    your_roll = roll_dice()\n",
    "\n",
    "    if my_roll > your_roll:\n",
    "        print('Player one won!')\n",
    "    elif my_roll < your_roll:\n",
    "        print ('Player two won!')\n",
    "    else:\n",
    "        print('It was a tie!')"
   ]
  },
  {
   "cell_type": "code",
   "execution_count": 22,
   "metadata": {},
   "outputs": [
    {
     "name": "stdout",
     "output_type": "stream",
     "text": [
      "__PLAYER ONE__\n",
      "Rolled 5\n",
      "__PLAYER TWO__\n",
      "Rolled 5\n",
      "It was a tie!\n"
     ]
    }
   ],
   "source": [
    "play_a_game()"
   ]
  },
  {
   "cell_type": "markdown",
   "metadata": {},
   "source": [
    "### Now your turn. Create a function that flips a coin... 0 means tails and 1 means heads"
   ]
  },
  {
   "cell_type": "code",
   "execution_count": 23,
   "metadata": {},
   "outputs": [],
   "source": [
    "def flip_a_coin():\n",
    "    # we want to print and do something with the variable below!\n",
    "    # some ideas: use an \"if\" statement, return a value\n",
    "    result = random.randint(0,1)"
   ]
  },
  {
   "cell_type": "code",
   "execution_count": 24,
   "metadata": {},
   "outputs": [],
   "source": [
    "# this should work with what we defined above\n",
    "result = flip_a_coin()\n",
    "\n",
    "# what else could we do with this function? Make a game where you try to guess what we get?"
   ]
  },
  {
   "cell_type": "markdown",
   "metadata": {},
   "source": [
    "### Part 2. Fun with turt"
   ]
  },
  {
   "cell_type": "code",
   "execution_count": 25,
   "metadata": {},
   "outputs": [
    {
     "data": {
      "application/vnd.jupyter.widget-view+json": {
       "model_id": "b22c124dc0db4b8dbd04607f4bf50768"
      }
     },
     "metadata": {},
     "output_type": "display_data"
    }
   ],
   "source": [
    "# make a square\n",
    "from mobilechelonian import Turtle\n",
    "turt = Turtle()\n",
    "turt.speed(10) # this is the fastest he can go!\n",
    "turt.forward(100)\n",
    "turt.right(90)\n",
    "turt.forward(100)\n",
    "turt.right(90)\n",
    "turt.forward(100)\n",
    "turt.right(90)\n",
    "turt.forward(100)\n",
    "turt.right(90)"
   ]
  },
  {
   "cell_type": "code",
   "execution_count": 26,
   "metadata": {},
   "outputs": [],
   "source": [
    "# let's make some useful functions\n",
    "def hi_turt():\n",
    "    turt = Turtle()\n",
    "    turt.speed(10)\n",
    "    return turt\n",
    "\n",
    "def draw_a_square(turt, size):\n",
    "    turt.forward(size)\n",
    "    turt.right(90)\n",
    "    turt.forward(size)\n",
    "    turt.right(90)\n",
    "    turt.forward(size)\n",
    "    turt.right(90)\n",
    "    turt.forward(size)\n",
    "    turt.right(90)"
   ]
  },
  {
   "cell_type": "code",
   "execution_count": 27,
   "metadata": {},
   "outputs": [
    {
     "data": {
      "application/vnd.jupyter.widget-view+json": {
       "model_id": "122f6e1cc8cc429ea56c8c6c514127f7"
      }
     },
     "metadata": {},
     "output_type": "display_data"
    }
   ],
   "source": [
    "# we can use them like this...\n",
    "turt = hi_turt()\n",
    "draw_a_square(turt, 50)\n",
    "turt.pencolor('red')\n",
    "draw_a_square(turt, 25)\n",
    "turt.pencolor('blue')\n",
    "draw_a_square(turt, 10)"
   ]
  },
  {
   "cell_type": "code",
   "execution_count": 28,
   "metadata": {},
   "outputs": [],
   "source": [
    "# one more trick\n",
    "turt.penup()\n",
    "turt.backward(100)\n",
    "turt.pendown()\n",
    "turt.pencolor('green')\n",
    "draw_a_square(turt, 100)"
   ]
  },
  {
   "cell_type": "markdown",
   "metadata": {},
   "source": [
    "### Free time with turt"
   ]
  },
  {
   "cell_type": "code",
   "execution_count": 29,
   "metadata": {},
   "outputs": [
    {
     "data": {
      "application/vnd.jupyter.widget-view+json": {
       "model_id": "4fa6bb7382e44b1b9dc51ebebe2f9620"
      }
     },
     "metadata": {},
     "output_type": "display_data"
    }
   ],
   "source": [
    "# start like this\n",
    "turt = hi_turt()\n",
    "\n",
    "# make some functions and draw some stuff!"
   ]
  }
 ],
 "metadata": {
  "kernelspec": {
   "display_name": "Python 3",
   "language": "python",
   "name": "python3"
  },
  "language_info": {
   "codemirror_mode": {
    "name": "ipython",
    "version": 3
   },
   "file_extension": ".py",
   "mimetype": "text/x-python",
   "name": "python",
   "nbconvert_exporter": "python",
   "pygments_lexer": "ipython3",
   "version": "3.6.3"
  }
 },
 "nbformat": 4,
 "nbformat_minor": 2
}
