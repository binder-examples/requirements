{
 "cells": [
  {
   "cell_type": "markdown",
   "metadata": {},
   "source": [
    "# Programming club week 3\n",
    "### Intro to Python, continued"
   ]
  },
  {
   "cell_type": "code",
   "execution_count": 1,
   "metadata": {},
   "outputs": [],
   "source": [
    "# do some set up stuff\n",
    "from mobilechelonian import Turtle"
   ]
  },
  {
   "cell_type": "markdown",
   "metadata": {},
   "source": [
    "### Part 1: The basics"
   ]
  },
  {
   "cell_type": "code",
   "execution_count": 19,
   "metadata": {},
   "outputs": [
    {
     "name": "stdout",
     "output_type": "stream",
     "text": [
      "7\n",
      "10\n",
      "19\n",
      "10\n"
     ]
    }
   ],
   "source": [
    "# Let's do some math\n",
    "def add_numbers(x, y):\n",
    "    print(x + y)\n",
    "    \n",
    "add_numbers(5, 2)\n",
    "\n",
    "# variables. what are we gonna get?\n",
    "my_fun_number = 5\n",
    "my_fun_number = 2\n",
    "my_fun_number = 5 + 2\n",
    "my_fun_number = my_fun_number + 2\n",
    "\n",
    "add_numbers(my_fun_number, 1)\n",
    "add_numbers(my_fun_number, my_fun_number+1)\n",
    "\n",
    "def add_numbers_then_subtract(x, y):\n",
    "    print(my_fun_number + x - y)\n",
    "    \n",
    "add_numbers_then_subtract(2,1)\n"
   ]
  },
  {
   "cell_type": "code",
   "execution_count": 20,
   "metadata": {},
   "outputs": [
    {
     "name": "stdout",
     "output_type": "stream",
     "text": [
      "27\n"
     ]
    }
   ],
   "source": [
    "import random\n",
    "print(random.randint(1,100))"
   ]
  },
  {
   "cell_type": "code",
   "execution_count": 21,
   "metadata": {},
   "outputs": [
    {
     "name": "stdout",
     "output_type": "stream",
     "text": [
      "Rolled 3\n",
      "Rolled 5\n",
      "Rolled 2\n"
     ]
    },
    {
     "data": {
      "text/plain": [
       "2"
      ]
     },
     "execution_count": 21,
     "metadata": {},
     "output_type": "execute_result"
    }
   ],
   "source": [
    "def roll_dice():\n",
    "    roll = random.randint(1,6)\n",
    "    print('Rolled ' + str(roll))\n",
    "    return roll\n",
    "\n",
    "roll_dice()\n",
    "roll_dice()\n",
    "roll_dice()"
   ]
  },
  {
   "cell_type": "code",
   "execution_count": 23,
   "metadata": {},
   "outputs": [
    {
     "name": "stdout",
     "output_type": "stream",
     "text": [
      "__PLAYER ONE__\n",
      "Rolled 4\n",
      "__PLAYER TWO__\n",
      "Rolled 5\n",
      "Player two won!\n"
     ]
    }
   ],
   "source": [
    "print('__PLAYER ONE__')\n",
    "my_roll = roll_dice()\n",
    "print('__PLAYER TWO__')\n",
    "your_roll = roll_dice()\n",
    "\n",
    "if my_roll > your_roll:\n",
    "    print('Player one won!')\n",
    "elif my_roll < your_roll:\n",
    "    print ('Player two won!')\n",
    "else:\n",
    "    print('It was a tie!')"
   ]
  },
  {
   "cell_type": "code",
   "execution_count": null,
   "metadata": {},
   "outputs": [],
   "source": [
    "def play_a_game():\n",
    "    print('__PLAYER ONE__')\n",
    "    my_roll = roll_dice()\n",
    "    print('__PLAYER TWO__')\n",
    "    your_roll = roll_dice()\n",
    "\n",
    "    if my_roll > your_roll:\n",
    "        print('Player one won!')\n",
    "    elif my_roll < your_roll:\n",
    "        print ('Player two won!')\n",
    "    else:\n",
    "        print('It was a tie!')"
   ]
  },
  {
   "cell_type": "code",
   "execution_count": null,
   "metadata": {},
   "outputs": [],
   "source": [
    "play_a_game()"
   ]
  },
  {
   "cell_type": "markdown",
   "metadata": {},
   "source": [
    "### Fun with turt"
   ]
  },
  {
   "cell_type": "code",
   "execution_count": 12,
   "metadata": {},
   "outputs": [
    {
     "data": {
      "application/vnd.jupyter.widget-view+json": {
       "model_id": "708f3b0e74954f68bb7947b5f09114af"
      }
     },
     "metadata": {},
     "output_type": "display_data"
    }
   ],
   "source": [
    "# make a square\n",
    "turt = Turtle()\n",
    "turt.speed(10) # this is the fastest he can go!\n",
    "turt.forward(100)\n",
    "turt.right(90)\n",
    "turt.forward(100)\n",
    "turt.right(90)\n",
    "turt.forward(100)\n",
    "turt.right(90)\n",
    "turt.forward(100)\n",
    "turt.right(90)"
   ]
  },
  {
   "cell_type": "raw",
   "metadata": {},
   "source": []
  },
  {
   "cell_type": "code",
   "execution_count": null,
   "metadata": {},
   "outputs": [],
   "source": []
  }
 ],
 "metadata": {
  "kernelspec": {
   "display_name": "Python 3",
   "language": "python",
   "name": "python3"
  },
  "language_info": {
   "codemirror_mode": {
    "name": "ipython",
    "version": 3
   },
   "file_extension": ".py",
   "mimetype": "text/x-python",
   "name": "python",
   "nbconvert_exporter": "python",
   "pygments_lexer": "ipython3",
   "version": "3.6.3"
  }
 },
 "nbformat": 4,
 "nbformat_minor": 2
}
